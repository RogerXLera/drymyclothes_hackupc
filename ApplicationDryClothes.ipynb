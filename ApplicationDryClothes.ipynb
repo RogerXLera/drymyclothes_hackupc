{
 "cells": [
  {
   "cell_type": "markdown",
   "metadata": {
    "colab_type": "text",
    "id": "40NPstWhsi28"
   },
   "source": [
    "# How long will it take to dry my clothes?"
   ]
  },
  {
   "cell_type": "code",
   "execution_count": 3,
   "metadata": {
    "colab": {},
    "colab_type": "code",
    "id": "NplfHVChXkTy"
   },
   "outputs": [],
   "source": [
    "#LIBRARIES\n",
    "import ipywidgets \n",
    "from ipywidgets import interact\n",
    "from ipywidgets import HTML, Layout, Dropdown, Output, Textarea, VBox, Label\n",
    "import numpy as np\n",
    "from pandas import date_range\n",
    "from datetime import datetime\n",
    "from ipywidgets import interact, interactive, fixed, interact_manual\n",
    "import ipywidgets as widgets"
   ]
  },
  {
   "cell_type": "markdown",
   "metadata": {
    "colab_type": "text",
    "id": "gaVL6Qj0nCD2"
   },
   "source": [
    "Formula we are using is the following:\n",
    "\n",
    "$ E = \\frac{\\Delta A' \\lambda+\\gamma [6.43(1+0.536u)D]}{\\lambda (\\Delta+\\gamma)}$\n",
    "\n",
    "citation : 6 Do you want to hang out?\n",
    "M. Bayliss, P. Dodd, F. Kettle, T. Sukaitis, A. Webb"
   ]
  },
  {
   "cell_type": "code",
   "execution_count": 6,
   "metadata": {
    "colab": {
     "base_uri": "https://localhost:8080/",
     "height": 34
    },
    "colab_type": "code",
    "id": "OvXvUI8vs9i0",
    "outputId": "9a27d7b7-b39f-4007-fca8-19f130a71454"
   },
   "outputs": [
    {
     "name": "stdout",
     "output_type": "stream",
     "text": [
      "3751.8846479888975\n"
     ]
    },
    {
     "data": {
      "application/vnd.jupyter.widget-view+json": {
       "model_id": "f797f13e080f42669d2c1b514eb1c5cf",
       "version_major": 2,
       "version_minor": 0
      },
      "text/plain": [
       "interactive(children=(IntSlider(value=280, description='Tair', max=290, min=275, step=5), IntSlider(value=101,…"
      ]
     },
     "metadata": {},
     "output_type": "display_data"
    }
   ],
   "source": [
    "#LIBRARIES\n",
    "import ipywidgets \n",
    "from ipywidgets import interact\n",
    "from ipywidgets import HTML, Layout, Dropdown, Output, Textarea, VBox, Label\n",
    "import numpy as np\n",
    "from pandas import date_range\n",
    "from datetime import datetime\n",
    "from ipywidgets import interact, interactive, fixed, interact_manual\n",
    "import ipywidgets as widgets\n",
    "\n",
    "#INPUT DATA\n",
    "#Data we are obtaining with the API weather\n",
    "#evaporationRate = 1\n",
    "Tair = 286 #K\n",
    "pressure = 101 #kPa\n",
    "freeWaterSurface = 1 #mm day-1\n",
    "relativeHumidity = 0.80 #out of 1\n",
    "windSpeed = 1 #m/s\n",
    "latitud = 42*(2*np.pi/360) #radians\n",
    "\n",
    "\n",
    "#Latitude and day\n",
    "n = 100\n",
    "Rnper = 1367*(1+0.034*np.cos(2*np.pi*(n/365.25))) #W m-2\n",
    "Rn = Rnper*np.cos(latitud)\n",
    "Rn = 10.08\n",
    "\n",
    "#CLOTHES DATA\n",
    "areaClothes = 0.5 #m^2\n",
    "massClothes = 0.07 #kg\n",
    "densityWater = 1.000 #kg*m^-3\n",
    "\n",
    "\n",
    "#FORMULA DATA\n",
    "#Data we need to apply formulas\n",
    "\n",
    "def evaporationRate(Tair, pressure, relativeHumidity):\n",
    "    Tsurface = Tair\n",
    "    saturatedVapour = np.exp(21.07-5336/Tair)\n",
    "    delta = (5336/(Tair**2)*saturatedVapour)*0.1333 #kPa\n",
    "    lambdaLatent = (2.501-0.002361*(Tsurface-273)) #MJ kg-1\n",
    "    gamma = 0.0016286*pressure/lambdaLatent\n",
    "    vaporPressureDeficit = (1-relativeHumidity)*lambdaLatent#kPa\n",
    "    evaporationRate = (delta*Rn+gamma*(6.43*(1+0.536*windSpeed)*vaporPressureDeficit))/(lambdaLatent*(delta+gamma))\n",
    "    return evaporationRate\n",
    "\n",
    "\n",
    "\n",
    "#TIME\n",
    "def dryingtime(E, densityWater, massClothes, areaClothes):\n",
    "    rhoE = E*densityWater/(60*60*24)\n",
    "    dryingTime = (massClothes/areaClothes)/rhoE\n",
    "    print(dryingTime)\n",
    "    return dryingTime\n",
    "\n",
    "E = evaporationRate(Tair, pressure, relativeHumidity)\n",
    "dryingTime = dryingtime(E, densityWater, massClothes, areaClothes)\n",
    "\n",
    "out = interact(evaporationRate, Tair= widgets.IntSlider(value=280, min=275, max=290, step=5),\n",
    "               pressure = widgets.IntSlider(value=101, min=90, max=120, step=10),\n",
    "               relativeHumidity = widgets.FloatSlider(value=0.6, min=0.5, max=1, step=0.1))\n"
   ]
  },
  {
   "cell_type": "code",
   "execution_count": null,
   "metadata": {},
   "outputs": [],
   "source": []
  }
 ],
 "metadata": {
  "colab": {
   "collapsed_sections": [],
   "name": "ApplicationDryClothes.ipynb",
   "provenance": []
  },
  "kernelspec": {
   "display_name": "Python [default]",
   "language": "python",
   "name": "python3"
  },
  "language_info": {
   "codemirror_mode": {
    "name": "ipython",
    "version": 3
   },
   "file_extension": ".py",
   "mimetype": "text/x-python",
   "name": "python",
   "nbconvert_exporter": "python",
   "pygments_lexer": "ipython3",
   "version": "3.5.6"
  }
 },
 "nbformat": 4,
 "nbformat_minor": 1
}
