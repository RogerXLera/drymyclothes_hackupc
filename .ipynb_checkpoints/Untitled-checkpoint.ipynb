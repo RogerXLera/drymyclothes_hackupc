{
 "cells": [
  {
   "cell_type": "markdown",
   "metadata": {},
   "source": [
    "# hola"
   ]
  },
  {
   "cell_type": "code",
   "execution_count": 2,
   "metadata": {},
   "outputs": [
    {
     "data": {
      "application/vnd.jupyter.widget-view+json": {
       "model_id": "35a2cf5244da4e1f8be61bdcc4328666",
       "version_major": 2,
       "version_minor": 0
      },
      "text/plain": [
       "VBox(children=(interactive(children=(FloatSlider(value=1.0, description='sd', max=2.0, step=0.2), IntSlider(va…"
      ]
     },
     "metadata": {},
     "output_type": "display_data"
    }
   ],
   "source": [
    "import nbinteract as nbi\n",
    "import numpy as np\n",
    "\n",
    "def hist_response_function(mean, sd, size=1000):\n",
    "    '''\n",
    "    Returns 1000 values picked at random from the normal\n",
    "    distribution with the mean and SD given.\n",
    "    '''\n",
    "    return np.random.normal(loc=mean, scale=sd, size=1000)\n",
    "nbi.hist(hist_response_function, mean=(0, 10), sd=(0, 2.0, 0.2))\n"
   ]
  },
  {
   "cell_type": "code",
   "execution_count": null,
   "metadata": {},
   "outputs": [],
   "source": []
  }
 ],
 "metadata": {
  "kernelspec": {
   "display_name": "Python [default]",
   "language": "python",
   "name": "python3"
  },
  "language_info": {
   "codemirror_mode": {
    "name": "ipython",
    "version": 3
   },
   "file_extension": ".py",
   "mimetype": "text/x-python",
   "name": "python",
   "nbconvert_exporter": "python",
   "pygments_lexer": "ipython3",
   "version": "3.5.6"
  }
 },
 "nbformat": 4,
 "nbformat_minor": 2
}
