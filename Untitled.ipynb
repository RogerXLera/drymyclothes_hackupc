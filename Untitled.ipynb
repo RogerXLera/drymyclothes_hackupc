{
 "cells": [
  {
   "cell_type": "markdown",
   "metadata": {},
   "source": [
    "# Hello!\n",
    "\n",
    "## hola hola hola"
   ]
  },
  {
   "cell_type": "code",
   "execution_count": 1,
   "metadata": {},
   "outputs": [
    {
     "ename": "SyntaxError",
     "evalue": "invalid syntax (<ipython-input-1-5b34f7a67852>, line 4)",
     "output_type": "error",
     "traceback": [
      "\u001b[0;36m  File \u001b[0;32m\"<ipython-input-1-5b34f7a67852>\"\u001b[0;36m, line \u001b[0;32m4\u001b[0m\n\u001b[0;31m    nbi:hide_in\u001b[0m\n\u001b[0m       ^\u001b[0m\n\u001b[0;31mSyntaxError\u001b[0m\u001b[0;31m:\u001b[0m invalid syntax\n"
     ]
    }
   ],
   "source": [
    "import nbinteract as nbi\n",
    "import numpy as np\n",
    "\n",
    "\"\"\"\n",
    "#nbi:hide_in\t\n",
    "    \"\"\"\n",
    "def normal(mean, sd):\n",
    "    '''Returns 1000 points drawn at random fron N(mean, sd)'''\n",
    "    return np.random.normal(mean, sd, 1000)\n",
    "\n",
    "normal(10, 1.0)\n",
    "\n",
    "# Plot aesthetics\n",
    "options = {\n",
    "    'xlim': (-2, 12),\n",
    "    'ylim': (0, 0.7),\n",
    "    'bins': 20\n",
    "}\n",
    "\n",
    "# Pass in the `normal` function and let user change mean and sd.\n",
    "# Whenever the user interacts with the sliders, the `normal` function\n",
    "# is called and the returned data are plotted.\n",
    "nbi.hist(normal, mean=(0, 10), sd=(0, 2.0), options=options)"
   ]
  },
  {
   "cell_type": "code",
   "execution_count": null,
   "metadata": {},
   "outputs": [],
   "source": []
  }
 ],
 "metadata": {
  "kernelspec": {
   "display_name": "Python [default]",
   "language": "python",
   "name": "python3"
  },
  "language_info": {
   "codemirror_mode": {
    "name": "ipython",
    "version": 3
   },
   "file_extension": ".py",
   "mimetype": "text/x-python",
   "name": "python",
   "nbconvert_exporter": "python",
   "pygments_lexer": "ipython3",
   "version": "3.5.6"
  }
 },
 "nbformat": 4,
 "nbformat_minor": 2
}
