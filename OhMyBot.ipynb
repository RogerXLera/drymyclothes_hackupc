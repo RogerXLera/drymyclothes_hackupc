{
 "cells": [
  {
   "cell_type": "code",
   "execution_count": 30,
   "metadata": {},
   "outputs": [
    {
     "data": {
      "text/plain": [
       "<queue.Queue at 0x107de5d68>"
      ]
     },
     "execution_count": 30,
     "metadata": {},
     "output_type": "execute_result"
    }
   ],
   "source": [
    "import telegram\n",
    "from telegram.ext import Updater, CommandHandler\n",
    "\n",
    "#Start function\n",
    "def start(update, context):\n",
    "    context.bot.send_message(chat_id=update.effective_chat.id, \n",
    "                             text=\"Welcome to OhMyBot!\")\n",
    "def getCity(update, context):\n",
    "    msg = update.message\n",
    "    msg_text = msg.text\n",
    "    city = msg_text.split(' ')[1]\n",
    "    print(city)\n",
    "    message = \"Ok we got the name of the city: \"+str(city)\n",
    "    context.bot.send_message(chat_id=update.effective_chat.id, \n",
    "                             text=message)\n",
    "    \n",
    "def time(update, context):    \n",
    "    context.bot.send_message(chat_id=update.effective_chat.id, \n",
    "                             text=str(msg_text))\n",
    "\n",
    "\n",
    "#Access the API and get the image URL\n",
    "updater = Updater(token='980016604:AAEZkpmHNhxI0cvmH7SI0f3uZVRACpdBU0Y', \n",
    "              use_context=True)\n",
    "\n",
    "dispatcher = updater.dispatcher\n",
    "\n",
    "start_handler = CommandHandler('start', start)\n",
    "dispatcher.add_handler(start_handler)\n",
    "\n",
    "getCity_handler = CommandHandler('getCity', getCity)\n",
    "dispatcher.add_handler(getCity_handler)\n",
    "\n",
    "time_handler = CommandHandler('time', time)\n",
    "dispatcher.add_handler(time_handler)\n",
    "\n",
    "updater.start_polling()"
   ]
  },
  {
   "cell_type": "code",
   "execution_count": null,
   "metadata": {},
   "outputs": [],
   "source": []
  }
 ],
 "metadata": {
  "colab": {
   "collapsed_sections": [],
   "name": "Suma.ipynb",
   "provenance": []
  },
  "kernelspec": {
   "display_name": "Python [default]",
   "language": "python",
   "name": "python3"
  },
  "language_info": {
   "codemirror_mode": {
    "name": "ipython",
    "version": 3
   },
   "file_extension": ".py",
   "mimetype": "text/x-python",
   "name": "python",
   "nbconvert_exporter": "python",
   "pygments_lexer": "ipython3",
   "version": "3.5.6"
  }
 },
 "nbformat": 4,
 "nbformat_minor": 1
}
